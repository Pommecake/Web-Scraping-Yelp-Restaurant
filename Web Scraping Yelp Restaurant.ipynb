{
 "cells": [
  {
   "cell_type": "code",
   "execution_count": null,
   "metadata": {},
   "outputs": [],
   "source": [
    "import bs4 as bs"
   ]
  },
  {
   "cell_type": "code",
   "execution_count": null,
   "metadata": {},
   "outputs": [],
   "source": [
    "import urllib.request as url"
   ]
  },
  {
   "cell_type": "code",
   "execution_count": null,
   "metadata": {},
   "outputs": [],
   "source": [
    "source = url.urlopen('https://www.yelp.com/search?find_desc=cafes&find_loc=Richmond&ns=1)"
   ]
  },
  {
   "cell_type": "code",
   "execution_count": null,
   "metadata": {},
   "outputs": [],
   "source": [
    "page_soup = bs.BeautifulSoup(source, 'html.parser')"
   ]
  },
  {
   "cell_type": "code",
   "execution_count": null,
   "metadata": {},
   "outputs": [],
   "source": [
    "mains = page_soup.find_all(\"div\", {\"class\": \"lemon--div__373c0__1mboc mainAttributes__373c0__1r0QA arrange-unit__373c0__1piwO arrange-unit-fill__373c0__17z0h border-color--default__373c0__2oFDT\"})"
   ]
  },
  {
   "cell_type": "code",
   "execution_count": null,
   "metadata": {},
   "outputs": [],
   "source": [
    "#Try 1 attribute first - Busines Name\n",
    "\n",
    "main = mains[0]\n",
    "\n",
    "busname = main.find(\"a\").text\n",
    "print(\"Rest_Name:\" + busname)"
   ]
  },
  {
   "cell_type": "code",
   "execution_count": null,
   "metadata": {},
   "outputs": [],
   "source": [
    "#Try second attribute - Ratings\n",
    "\n",
    "ratings = main.find(\"span\", {\"class\": \"lemon--span__373c0__3997G display--inline__373c0__1DbOG border-color--default__373c0__2oFDT\"}).div.get('aria-label')\n",
    "print(\"Rest_Ratings:\" + ratings)"
   ]
  },
  {
   "cell_type": "code",
   "execution_count": null,
   "metadata": {},
   "outputs": [],
   "source": [
    "#Set loop over 1 attribute\n",
    "\n",
    "for main in mains:\n",
    "    try:\n",
    "        busname = main.find(\"a\").text\n",
    "        print(\"Rest_Name:\" + busname)\n",
    "    except:\n",
    "        print(None)"
   ]
  },
  {
   "cell_type": "code",
   "execution_count": null,
   "metadata": {},
   "outputs": [],
   "source": [
    "#Save in a file\n",
    "filename = \"yelp_MELBBURGERS.csv\"\n",
    "\n",
    "f = open(filename, \"w\")\n",
    "\n",
    "header = \"Rest_Name, Rest_Ratings, Rest_Noreviews, Rest_Price\"\n",
    "\n",
    "f.write(header)"
   ]
  },
  {
   "cell_type": "code",
   "execution_count": null,
   "metadata": {},
   "outputs": [],
   "source": [
    "for main in mains:\n",
    "    try:\n",
    "        busname = main.find(\"a\").text\n",
    "        print(\"Rest_Name:\" + busname)\n",
    "    except:\n",
    "        print(None)\n",
    "    try:\n",
    "        ratings = main.find(\"span\", {\"class\": \"lemon--span__373c0__3997G display--inline__373c0__1DbOG border-color--default__373c0__2oFDT\"}).div.get('aria-label')\n",
    "        print(\"Rest_Ratings:\" + ratings)\n",
    "    except:\n",
    "        print(None)\n",
    "    try:\n",
    "        noreviews = main.find(\"span\", {\"class\": \"lemon--span__373c0__3997G text__373c0__2pB8f reviewCount__373c0__2r4xT text-color--mid__373c0__3G312 text-align--left__373c0__2pnx_\"}).text\n",
    "        print(\"Rest_Noreviews:\" + noreviews)\n",
    "    except:\n",
    "        print(None)\n",
    "    try:\n",
    "        price = main.find(\"span\", {\"class\": \"lemon--span__373c0__3997G text__373c0__2pB8f priceRange__373c0__2DY87 text-color--normal__373c0__K_MKN text-align--left__373c0__2pnx_ text-bullet--after__373c0__1ZHaA\"}).text\n",
    "        print(\"Rest_Price:\" + price)\n",
    "    except:\n",
    "        print(None) \n",
    "    f.write(\"\\n\" + busname + \",\" + ratings + \",\" + noreviews + \",\" + price)\n",
    "    \n",
    "f.close()"
   ]
  }
 ],
 "metadata": {
  "kernelspec": {
   "display_name": "Python 3",
   "language": "python",
   "name": "python3"
  },
  "language_info": {
   "codemirror_mode": {
    "name": "ipython",
    "version": 3
   },
   "file_extension": ".py",
   "mimetype": "text/x-python",
   "name": "python",
   "nbconvert_exporter": "python",
   "pygments_lexer": "ipython3",
   "version": "3.7.3"
  }
 },
 "nbformat": 4,
 "nbformat_minor": 2
}
